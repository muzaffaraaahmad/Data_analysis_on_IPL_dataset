{
 "cells": [
  {
   "cell_type": "code",
   "execution_count": 1,
   "metadata": {},
   "outputs": [],
   "source": [
    "#import libraaries\n",
    "import numpy as np\n",
    "import pandas as pd\n",
    "from matplotlib import pyplot as plt"
   ]
  },
  {
   "cell_type": "code",
   "execution_count": 2,
   "metadata": {},
   "outputs": [
    {
     "data": {
      "text/html": [
       "<div>\n",
       "<style scoped>\n",
       "    .dataframe tbody tr th:only-of-type {\n",
       "        vertical-align: middle;\n",
       "    }\n",
       "\n",
       "    .dataframe tbody tr th {\n",
       "        vertical-align: top;\n",
       "    }\n",
       "\n",
       "    .dataframe thead th {\n",
       "        text-align: right;\n",
       "    }\n",
       "</style>\n",
       "<table border=\"1\" class=\"dataframe\">\n",
       "  <thead>\n",
       "    <tr style=\"text-align: right;\">\n",
       "      <th></th>\n",
       "      <th>id</th>\n",
       "      <th>season</th>\n",
       "      <th>city</th>\n",
       "      <th>date</th>\n",
       "      <th>match_type</th>\n",
       "      <th>player_of_match</th>\n",
       "      <th>venue</th>\n",
       "      <th>team1</th>\n",
       "      <th>team2</th>\n",
       "      <th>toss_winner</th>\n",
       "      <th>toss_decision</th>\n",
       "      <th>winner</th>\n",
       "      <th>result</th>\n",
       "      <th>result_margin</th>\n",
       "      <th>target_runs</th>\n",
       "      <th>target_overs</th>\n",
       "      <th>super_over</th>\n",
       "      <th>method</th>\n",
       "      <th>umpire1</th>\n",
       "      <th>umpire2</th>\n",
       "    </tr>\n",
       "  </thead>\n",
       "  <tbody>\n",
       "    <tr>\n",
       "      <th>0</th>\n",
       "      <td>335982</td>\n",
       "      <td>2007/08</td>\n",
       "      <td>Bangalore</td>\n",
       "      <td>2008-04-18</td>\n",
       "      <td>League</td>\n",
       "      <td>BB McCullum</td>\n",
       "      <td>M Chinnaswamy Stadium</td>\n",
       "      <td>Royal Challengers Bangalore</td>\n",
       "      <td>Kolkata Knight Riders</td>\n",
       "      <td>Royal Challengers Bangalore</td>\n",
       "      <td>field</td>\n",
       "      <td>Kolkata Knight Riders</td>\n",
       "      <td>runs</td>\n",
       "      <td>140.0</td>\n",
       "      <td>223.0</td>\n",
       "      <td>20.0</td>\n",
       "      <td>N</td>\n",
       "      <td>NaN</td>\n",
       "      <td>Asad Rauf</td>\n",
       "      <td>RE Koertzen</td>\n",
       "    </tr>\n",
       "    <tr>\n",
       "      <th>1</th>\n",
       "      <td>335983</td>\n",
       "      <td>2007/08</td>\n",
       "      <td>Chandigarh</td>\n",
       "      <td>2008-04-19</td>\n",
       "      <td>League</td>\n",
       "      <td>MEK Hussey</td>\n",
       "      <td>Punjab Cricket Association Stadium, Mohali</td>\n",
       "      <td>Kings XI Punjab</td>\n",
       "      <td>Chennai Super Kings</td>\n",
       "      <td>Chennai Super Kings</td>\n",
       "      <td>bat</td>\n",
       "      <td>Chennai Super Kings</td>\n",
       "      <td>runs</td>\n",
       "      <td>33.0</td>\n",
       "      <td>241.0</td>\n",
       "      <td>20.0</td>\n",
       "      <td>N</td>\n",
       "      <td>NaN</td>\n",
       "      <td>MR Benson</td>\n",
       "      <td>SL Shastri</td>\n",
       "    </tr>\n",
       "    <tr>\n",
       "      <th>2</th>\n",
       "      <td>335984</td>\n",
       "      <td>2007/08</td>\n",
       "      <td>Delhi</td>\n",
       "      <td>2008-04-19</td>\n",
       "      <td>League</td>\n",
       "      <td>MF Maharoof</td>\n",
       "      <td>Feroz Shah Kotla</td>\n",
       "      <td>Delhi Daredevils</td>\n",
       "      <td>Rajasthan Royals</td>\n",
       "      <td>Rajasthan Royals</td>\n",
       "      <td>bat</td>\n",
       "      <td>Delhi Daredevils</td>\n",
       "      <td>wickets</td>\n",
       "      <td>9.0</td>\n",
       "      <td>130.0</td>\n",
       "      <td>20.0</td>\n",
       "      <td>N</td>\n",
       "      <td>NaN</td>\n",
       "      <td>Aleem Dar</td>\n",
       "      <td>GA Pratapkumar</td>\n",
       "    </tr>\n",
       "    <tr>\n",
       "      <th>3</th>\n",
       "      <td>335985</td>\n",
       "      <td>2007/08</td>\n",
       "      <td>Mumbai</td>\n",
       "      <td>2008-04-20</td>\n",
       "      <td>League</td>\n",
       "      <td>MV Boucher</td>\n",
       "      <td>Wankhede Stadium</td>\n",
       "      <td>Mumbai Indians</td>\n",
       "      <td>Royal Challengers Bangalore</td>\n",
       "      <td>Mumbai Indians</td>\n",
       "      <td>bat</td>\n",
       "      <td>Royal Challengers Bangalore</td>\n",
       "      <td>wickets</td>\n",
       "      <td>5.0</td>\n",
       "      <td>166.0</td>\n",
       "      <td>20.0</td>\n",
       "      <td>N</td>\n",
       "      <td>NaN</td>\n",
       "      <td>SJ Davis</td>\n",
       "      <td>DJ Harper</td>\n",
       "    </tr>\n",
       "    <tr>\n",
       "      <th>4</th>\n",
       "      <td>335986</td>\n",
       "      <td>2007/08</td>\n",
       "      <td>Kolkata</td>\n",
       "      <td>2008-04-20</td>\n",
       "      <td>League</td>\n",
       "      <td>DJ Hussey</td>\n",
       "      <td>Eden Gardens</td>\n",
       "      <td>Kolkata Knight Riders</td>\n",
       "      <td>Deccan Chargers</td>\n",
       "      <td>Deccan Chargers</td>\n",
       "      <td>bat</td>\n",
       "      <td>Kolkata Knight Riders</td>\n",
       "      <td>wickets</td>\n",
       "      <td>5.0</td>\n",
       "      <td>111.0</td>\n",
       "      <td>20.0</td>\n",
       "      <td>N</td>\n",
       "      <td>NaN</td>\n",
       "      <td>BF Bowden</td>\n",
       "      <td>K Hariharan</td>\n",
       "    </tr>\n",
       "  </tbody>\n",
       "</table>\n",
       "</div>"
      ],
      "text/plain": [
       "       id   season        city        date match_type player_of_match  \\\n",
       "0  335982  2007/08   Bangalore  2008-04-18     League     BB McCullum   \n",
       "1  335983  2007/08  Chandigarh  2008-04-19     League      MEK Hussey   \n",
       "2  335984  2007/08       Delhi  2008-04-19     League     MF Maharoof   \n",
       "3  335985  2007/08      Mumbai  2008-04-20     League      MV Boucher   \n",
       "4  335986  2007/08     Kolkata  2008-04-20     League       DJ Hussey   \n",
       "\n",
       "                                        venue                        team1  \\\n",
       "0                       M Chinnaswamy Stadium  Royal Challengers Bangalore   \n",
       "1  Punjab Cricket Association Stadium, Mohali              Kings XI Punjab   \n",
       "2                            Feroz Shah Kotla             Delhi Daredevils   \n",
       "3                            Wankhede Stadium               Mumbai Indians   \n",
       "4                                Eden Gardens        Kolkata Knight Riders   \n",
       "\n",
       "                         team2                  toss_winner toss_decision  \\\n",
       "0        Kolkata Knight Riders  Royal Challengers Bangalore         field   \n",
       "1          Chennai Super Kings          Chennai Super Kings           bat   \n",
       "2             Rajasthan Royals             Rajasthan Royals           bat   \n",
       "3  Royal Challengers Bangalore               Mumbai Indians           bat   \n",
       "4              Deccan Chargers              Deccan Chargers           bat   \n",
       "\n",
       "                        winner   result  result_margin  target_runs  \\\n",
       "0        Kolkata Knight Riders     runs          140.0        223.0   \n",
       "1          Chennai Super Kings     runs           33.0        241.0   \n",
       "2             Delhi Daredevils  wickets            9.0        130.0   \n",
       "3  Royal Challengers Bangalore  wickets            5.0        166.0   \n",
       "4        Kolkata Knight Riders  wickets            5.0        111.0   \n",
       "\n",
       "   target_overs super_over method    umpire1         umpire2  \n",
       "0          20.0          N    NaN  Asad Rauf     RE Koertzen  \n",
       "1          20.0          N    NaN  MR Benson      SL Shastri  \n",
       "2          20.0          N    NaN  Aleem Dar  GA Pratapkumar  \n",
       "3          20.0          N    NaN   SJ Davis       DJ Harper  \n",
       "4          20.0          N    NaN  BF Bowden     K Hariharan  "
      ]
     },
     "execution_count": 2,
     "metadata": {},
     "output_type": "execute_result"
    }
   ],
   "source": [
    "#load the ipl dataset\n",
    "file_path = \"/Users/abc/Desktop/python/IPL dataset/Data_analysis_on_IPL_dataset/matches.csv\"\n",
    "ipl= pd.read_csv(file_path)\n",
    "ipl.head()"
   ]
  },
  {
   "cell_type": "code",
   "execution_count": 3,
   "metadata": {},
   "outputs": [
    {
     "data": {
      "text/plain": [
       "(1095, 20)"
      ]
     },
     "execution_count": 3,
     "metadata": {},
     "output_type": "execute_result"
    }
   ],
   "source": [
    "#shape or size of the dataset\n",
    "ipl.shape"
   ]
  },
  {
   "cell_type": "code",
   "execution_count": 4,
   "metadata": {},
   "outputs": [
    {
     "data": {
      "text/plain": [
       "player_of_match\n",
       "AB de Villiers       25\n",
       "CH Gayle             22\n",
       "RG Sharma            19\n",
       "DA Warner            18\n",
       "V Kohli              18\n",
       "                     ..\n",
       "NV Ojha               1\n",
       "KV Sharma             1\n",
       "Washington Sundar     1\n",
       "PD Collingwood        1\n",
       "Shahbaz Ahmed         1\n",
       "Name: count, Length: 291, dtype: int64"
      ]
     },
     "execution_count": 4,
     "metadata": {},
     "output_type": "execute_result"
    }
   ],
   "source": [
    "#getting the frequency of most plyer of the matche\n",
    "\n",
    "ipl[\"player_of_match\"].value_counts()"
   ]
  },
  {
   "cell_type": "code",
   "execution_count": 5,
   "metadata": {},
   "outputs": [
    {
     "data": {
      "text/plain": [
       "player_of_match\n",
       "AB de Villiers    25\n",
       "CH Gayle          22\n",
       "RG Sharma         19\n",
       "DA Warner         18\n",
       "V Kohli           18\n",
       "MS Dhoni          17\n",
       "SR Watson         16\n",
       "YK Pathan         16\n",
       "RA Jadeja         16\n",
       "AD Russell        15\n",
       "Name: count, dtype: int64"
      ]
     },
     "execution_count": 5,
     "metadata": {},
     "output_type": "execute_result"
    }
   ],
   "source": [
    "#getting the ten top with most plyer of the matches\n",
    "ipl[\"player_of_match\"].value_counts()[0:10]"
   ]
  },
  {
   "cell_type": "code",
   "execution_count": 6,
   "metadata": {},
   "outputs": [
    {
     "data": {
      "text/plain": [
       "player_of_match\n",
       "AB de Villiers    25\n",
       "CH Gayle          22\n",
       "RG Sharma         19\n",
       "DA Warner         18\n",
       "V Kohli           18\n",
       "Name: count, dtype: int64"
      ]
     },
     "execution_count": 6,
     "metadata": {},
     "output_type": "execute_result"
    }
   ],
   "source": [
    "#getting the 5 top with most plyer of the matches\n",
    "ipl[\"player_of_match\"].value_counts()[0:5]"
   ]
  },
  {
   "cell_type": "markdown",
   "metadata": {},
   "source": [
    "creating bar bar chart of  5 top with most plyer of the matches"
   ]
  },
  {
   "cell_type": "code",
   "execution_count": 10,
   "metadata": {},
   "outputs": [
    {
     "data": {
      "text/plain": [
       "['AB de Villiers', 'CH Gayle', 'RG Sharma', 'DA Warner', 'V Kohli']"
      ]
     },
     "execution_count": 10,
     "metadata": {},
     "output_type": "execute_result"
    }
   ],
   "source": [
    "x=list(ipl[\"player_of_match\"].value_counts()[0:5].keys())\n",
    "x"
   ]
  },
  {
   "cell_type": "code",
   "execution_count": 11,
   "metadata": {},
   "outputs": [
    {
     "data": {
      "text/plain": [
       "[25, 22, 19, 18, 18]"
      ]
     },
     "execution_count": 11,
     "metadata": {},
     "output_type": "execute_result"
    }
   ],
   "source": [
    "y=list(ipl[\"player_of_match\"].value_counts()[0:5])\n",
    "y"
   ]
  },
  {
   "cell_type": "code",
   "execution_count": 12,
   "metadata": {},
   "outputs": [
    {
     "data": {
      "text/plain": [
       "<function matplotlib.pyplot.show(close=None, block=None)>"
      ]
     },
     "execution_count": 12,
     "metadata": {},
     "output_type": "execute_result"
    },
    {
     "data": {
      "image/png": "[encoded data removed]",
      "text/plain": [
       "<Figure size 640x480 with 1 Axes>"
      ]
     },
     "metadata": {},
     "output_type": "display_data"
    }
   ],
   "source": [
    "plt.bar(x,y, color= \"g\")\n",
    "plt.show"
   ]
  },
  {
   "cell_type": "code",
   "execution_count": 14,
   "metadata": {},
   "outputs": [
    {
     "data": {
      "text/plain": [
       "winner\n",
       "Mumbai Indians                 144\n",
       "Chennai Super Kings            138\n",
       "Kolkata Knight Riders          131\n",
       "Royal Challengers Bangalore    116\n",
       "Rajasthan Royals               112\n",
       "Kings XI Punjab                 88\n",
       "Sunrisers Hyderabad             88\n",
       "Delhi Daredevils                67\n",
       "Delhi Capitals                  48\n",
       "Deccan Chargers                 29\n",
       "Gujarat Titans                  28\n",
       "Lucknow Super Giants            24\n",
       "Punjab Kings                    24\n",
       "Gujarat Lions                   13\n",
       "Pune Warriors                   12\n",
       "Rising Pune Supergiant          10\n",
       "Royal Challengers Bengaluru      7\n",
       "Kochi Tuskers Kerala             6\n",
       "Rising Pune Supergiants          5\n",
       "Name: count, dtype: int64"
      ]
     },
     "execution_count": 14,
     "metadata": {},
     "output_type": "execute_result"
    }
   ],
   "source": [
    "#getting the frequency of categorial colum \"winner\" ie how many teeam has one many matches\n",
    "ipl[\"winner\"].value_counts()"
   ]
  },
  {
   "cell_type": "code",
   "execution_count": 39,
   "metadata": {},
   "outputs": [
    {
     "data": {
      "text/plain": [
       "toss_winner\n",
       "Mumbai Indians                 143\n",
       "Kolkata Knight Riders          122\n",
       "Chennai Super Kings            122\n",
       "Rajasthan Royals               120\n",
       "Royal Challengers Bangalore    113\n",
       "Sunrisers Hyderabad             88\n",
       "Kings XI Punjab                 85\n",
       "Delhi Daredevils                80\n",
       "Delhi Capitals                  50\n",
       "Deccan Chargers                 43\n",
       "Punjab Kings                    24\n",
       "Gujarat Titans                  22\n",
       "Pune Warriors                   20\n",
       "Lucknow Super Giants            19\n",
       "Gujarat Lions                   15\n",
       "Kochi Tuskers Kerala             8\n",
       "Royal Challengers Bengaluru      8\n",
       "Rising Pune Supergiants          7\n",
       "Rising Pune Supergiant           6\n",
       "Name: count, dtype: int64"
      ]
     },
     "execution_count": 39,
     "metadata": {},
     "output_type": "execute_result"
    }
   ],
   "source": [
    "#find out the numner of toss winners\n",
    "winners= ipl[\"toss_winner\"].value_counts()\n",
    "winners"
   ]
  },
  {
   "cell_type": "code",
   "execution_count": 44,
   "metadata": {},
   "outputs": [
    {
     "data": {
      "text/plain": [
       "Index(['Mumbai Indians', 'Kolkata Knight Riders', 'Chennai Super Kings',\n",
       "       'Rajasthan Royals', 'Royal Challengers Bangalore',\n",
       "       'Sunrisers Hyderabad', 'Kings XI Punjab', 'Delhi Daredevils',\n",
       "       'Delhi Capitals', 'Deccan Chargers', 'Punjab Kings', 'Gujarat Titans',\n",
       "       'Pune Warriors', 'Lucknow Super Giants', 'Gujarat Lions',\n",
       "       'Kochi Tuskers Kerala', 'Royal Challengers Bengaluru',\n",
       "       'Rising Pune Supergiants', 'Rising Pune Supergiant'],\n",
       "      dtype='object', name='toss_winner')"
      ]
     },
     "execution_count": 44,
     "metadata": {},
     "output_type": "execute_result"
    }
   ],
   "source": [
    "a= winners.keys()\n",
    "a"
   ]
  },
  {
   "cell_type": "code",
   "execution_count": 46,
   "metadata": {},
   "outputs": [
    {
     "data": {
      "text/plain": [
       "array([143, 122, 122, 120, 113,  88,  85,  80,  50,  43,  24,  22,  20,\n",
       "        19,  15,   8,   8,   7,   6])"
      ]
     },
     "execution_count": 46,
     "metadata": {},
     "output_type": "execute_result"
    }
   ],
   "source": [
    "b= winners.values\n",
    "b"
   ]
  },
  {
   "cell_type": "code",
   "execution_count": 47,
   "metadata": {},
   "outputs": [
    {
     "data": {
      "text/plain": [
       "(<BarContainer object of 19 artists>,)"
      ]
     },
     "execution_count": 47,
     "metadata": {},
     "output_type": "execute_result"
    },
    {
     "data": {
      "image/png": "[encoded data removed]",
      "text/plain": [
       "<Figure size 640x480 with 1 Axes>"
      ]
     },
     "metadata": {},
     "output_type": "display_data"
    }
   ],
   "source": [
    "plt.bar(list(a),list(b)),"
   ]
  },
  {
   "cell_type": "code",
   "execution_count": 20,
   "metadata": {},
   "outputs": [
    {
     "data": {
      "text/plain": [
       "result\n",
       "wickets      578\n",
       "runs         498\n",
       "tie           14\n",
       "no result      5\n",
       "Name: count, dtype: int64"
      ]
     },
     "execution_count": 20,
     "metadata": {},
     "output_type": "execute_result"
    }
   ],
   "source": [
    "#extracting the records where a team was batting first \n",
    "results = ipl[\"result\"].value_counts()\n",
    "results"
   ]
  },
  {
   "cell_type": "code",
   "execution_count": 34,
   "metadata": {},
   "outputs": [
    {
     "data": {
      "text/plain": [
       "array([578, 498,  14,   5])"
      ]
     },
     "execution_count": 34,
     "metadata": {},
     "output_type": "execute_result"
    }
   ],
   "source": [
    "x=results.values\n",
    "x"
   ]
  },
  {
   "cell_type": "code",
   "execution_count": 35,
   "metadata": {},
   "outputs": [
    {
     "data": {
      "text/plain": [
       "['wickets', 'runs', 'tie', 'no result']"
      ]
     },
     "execution_count": 35,
     "metadata": {},
     "output_type": "execute_result"
    }
   ],
   "source": [
    "y=list(results.keys())\n",
    "y"
   ]
  },
  {
   "cell_type": "code",
   "execution_count": 38,
   "metadata": {},
   "outputs": [
    {
     "data": {
      "text/plain": [
       "<matplotlib.legend.Legend at 0x7feb5b179f40>"
      ]
     },
     "execution_count": 38,
     "metadata": {},
     "output_type": "execute_result"
    },
    {
     "data": {
      "image/png": "[encoded data removed]",
      "text/plain": [
       "<Figure size 640x480 with 1 Axes>"
      ]
     },
     "metadata": {},
     "output_type": "display_data"
    }
   ],
   "source": [
    "plt.pie(x,labels=y , autopct='%1.1f%%')\n",
    "plt.legend()"
   ]
  },
  {
   "cell_type": "code",
   "execution_count": 51,
   "metadata": {},
   "outputs": [
    {
     "data": {
      "text/plain": [
       "city\n",
       "Mumbai        173\n",
       "Kolkata        93\n",
       "Delhi          90\n",
       "Chennai        85\n",
       "Hyderabad      77\n",
       "Bangalore      65\n",
       "Chandigarh     61\n",
       "Jaipur         57\n",
       "Pune           51\n",
       "Abu Dhabi      37\n",
       "Name: count, dtype: int64"
      ]
     },
     "execution_count": 51,
     "metadata": {},
     "output_type": "execute_result"
    }
   ],
   "source": [
    "#number of matches played at which city\n",
    "df = ipl[\"city\"].value_counts()\n",
    "df.head(10)"
   ]
  },
  {
   "cell_type": "code",
   "execution_count": 50,
   "metadata": {},
   "outputs": [
    {
     "data": {
      "text/plain": [
       "<BarContainer object of 36 artists>"
      ]
     },
     "execution_count": 50,
     "metadata": {},
     "output_type": "execute_result"
    },
    {
     "data": {
      "image/png": "[encoded data removed]",
      "text/plain": [
       "<Figure size 640x480 with 1 Axes>"
      ]
     },
     "metadata": {},
     "output_type": "display_data"
    }
   ],
   "source": [
    "plt.bar(list(ipl[\"city\"].value_counts().keys()),list(ipl[\"city\"].value_counts().values))"
   ]
  },
  {
   "cell_type": "code",
   "execution_count": 53,
   "metadata": {},
   "outputs": [
    {
     "data": {
      "text/plain": [
       "(1095, 20)"
      ]
     },
     "execution_count": 53,
     "metadata": {},
     "output_type": "execute_result"
    }
   ],
   "source": [
    "ipl.shape"
   ]
  },
  {
   "cell_type": "code",
   "execution_count": 52,
   "metadata": {},
   "outputs": [
    {
     "data": {
      "text/plain": [
       "554"
      ]
     },
     "execution_count": 52,
     "metadata": {},
     "output_type": "execute_result"
    }
   ],
   "source": [
    "#finding out how many time a team has won the match after winning toss\n",
    "\n",
    "import numpy as np\n",
    "np.sum(ipl[\"toss_winner\"] ==ipl[\"winner\"])"
   ]
  },
  {
   "cell_type": "code",
   "execution_count": 54,
   "metadata": {},
   "outputs": [
    {
     "data": {
      "text/plain": [
       "0"
      ]
     },
     "execution_count": 54,
     "metadata": {},
     "output_type": "execute_result"
    }
   ],
   "source": []
  }
 ],
 "metadata": {
  "kernelspec": {
   "display_name": "Python 3",
   "language": "python",
   "name": "python3"
  },
  "language_info": {
   "codemirror_mode": {
    "name": "ipython",
    "version": 3
   },
   "file_extension": ".py",
   "mimetype": "text/x-python",
   "name": "python",
   "nbconvert_exporter": "python",
   "pygments_lexer": "ipython3",
   "version": "3.9.10"
  }
 },
 "nbformat": 4,
 "nbformat_minor": 2
}
